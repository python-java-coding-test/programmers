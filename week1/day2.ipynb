{
 "cells": [
  {
   "cell_type": "code",
   "execution_count": 1,
   "metadata": {},
   "outputs": [
    {
     "data": {
      "text/plain": [
       "[1, 2, 3]"
      ]
     },
     "execution_count": 1,
     "metadata": {},
     "output_type": "execute_result"
    }
   ],
   "source": [
    "def solution(answers):\n",
    "    counts = [0,0,0]\n",
    "    winner = []\n",
    "    s1 = [1, 2, 3, 4, 5]\n",
    "    s2 = [2, 1, 2, 3, 2, 4, 2, 5]\n",
    "    s3 = [3, 3, 1, 1, 2, 2, 4, 4, 5, 5,]\n",
    "    \n",
    "    for i in range(len(answers)):\n",
    "        if answers[i] == s1[(i%5)]:\n",
    "            counts[0] += 1\n",
    "        if answers[i] == s2[(i%8)]:\n",
    "            counts[1] += 1\n",
    "        if answers[i] == s3[(i%10)]:\n",
    "            counts[2] += 1\n",
    "            \n",
    "    for i in range(3):\n",
    "        if counts[i] == max(counts):\n",
    "            winner.append(i+1)\n",
    "\n",
    "    return winner\n",
    "\n",
    "answers = [1,3,2,4,2]\n",
    "solution(answers)"
   ]
  },
  {
   "attachments": {},
   "cell_type": "markdown",
   "metadata": {},
   "source": [
    "모든 학생의 배열에 규칙이 있다는 점 이용"
   ]
  }
 ],
 "metadata": {
  "kernelspec": {
   "display_name": "Python 3",
   "language": "python",
   "name": "python3"
  },
  "language_info": {
   "codemirror_mode": {
    "name": "ipython",
    "version": 3
   },
   "file_extension": ".py",
   "mimetype": "text/x-python",
   "name": "python",
   "nbconvert_exporter": "python",
   "pygments_lexer": "ipython3",
   "version": "3.9.8"
  },
  "orig_nbformat": 4,
  "vscode": {
   "interpreter": {
    "hash": "bb5871374aa815611ff090ac9fb6f4b5f2e2a999b21408b6453922aa9cb06e2a"
   }
  }
 },
 "nbformat": 4,
 "nbformat_minor": 2
}
