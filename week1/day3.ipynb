{
 "cells": [
  {
   "cell_type": "code",
   "execution_count": 3,
   "metadata": {},
   "outputs": [
    {
     "data": {
      "text/plain": [
       "3"
      ]
     },
     "execution_count": 3,
     "metadata": {},
     "output_type": "execute_result"
    }
   ],
   "source": [
    "from itertools import permutations\n",
    "def prime_number(x) :\n",
    "    if x < 2 :\n",
    "        return False\n",
    "    \n",
    "    for i in range(2, x) :\n",
    "        if x % i == 0 :\n",
    "            return False #여기서 안끊어주면 시간 초과 -> break로 끊어주기도 가능\n",
    "            \n",
    "    return True\n",
    "\n",
    "\n",
    "def solution(numbers):\n",
    "    answer = 0\n",
    "    \n",
    "    num = []\n",
    "    for i in range(1, len(numbers)+1) :\n",
    "        #순열 모듈 사용해서 나올 수 있는 모든 수 조합\n",
    "        num.append(list(set(map(''.join, permutations(numbers, i)))))\n",
    "    per = list(set(map(int, set(sum(num, [])))))\n",
    "    \n",
    "    for p in per :\n",
    "        if prime_number(p) == True :\n",
    "            answer += 1\n",
    "\n",
    "    return answer\n",
    "\n",
    "numbers = \"17\"\n",
    "solution(numbers)"
   ]
  },
  {
   "attachments": {},
   "cell_type": "markdown",
   "metadata": {},
   "source": [
    "소수 찾기는 성공했는데 숫자 조합을 어떻게 하는지 도저히 모르겠어서ㅜㅜㅜ\n",
    "구글링 해봐서 permutations 찾음\n",
    "나올 수 있는 모든 순열 반환해준다고 함"
   ]
  }
 ],
 "metadata": {
  "kernelspec": {
   "display_name": "Python 3",
   "language": "python",
   "name": "python3"
  },
  "language_info": {
   "codemirror_mode": {
    "name": "ipython",
    "version": 3
   },
   "file_extension": ".py",
   "mimetype": "text/x-python",
   "name": "python",
   "nbconvert_exporter": "python",
   "pygments_lexer": "ipython3",
   "version": "3.9.8"
  },
  "orig_nbformat": 4,
  "vscode": {
   "interpreter": {
    "hash": "bb5871374aa815611ff090ac9fb6f4b5f2e2a999b21408b6453922aa9cb06e2a"
   }
  }
 },
 "nbformat": 4,
 "nbformat_minor": 2
}
