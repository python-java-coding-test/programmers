{
 "cells": [
  {
   "cell_type": "code",
   "execution_count": 1,
   "metadata": {},
   "outputs": [
    {
     "data": {
      "text/plain": [
       "[4, 3]"
      ]
     },
     "execution_count": 1,
     "metadata": {},
     "output_type": "execute_result"
    }
   ],
   "source": [
    "def solution(brown, yellow):\n",
    "    answer = []\n",
    "    for i in range(1, yellow +1):\n",
    "        if (yellow % i == 0):\n",
    "            yellow_row = int(yellow / i)\n",
    "            yellow_col = i\n",
    "            if (2 * (yellow_row + yellow_col) + 4 == brown):\n",
    "                answer.append(yellow_row +2)\n",
    "                answer.append(yellow_col+2)\n",
    "                break\n",
    "    return answer\n",
    "\n",
    "solution(10,2)"
   ]
  },
  {
   "attachments": {},
   "cell_type": "markdown",
   "metadata": {},
   "source": [
    "Brown의 갯수는 Yellow의 (행+열) * 2 + 4 라는 점 이용..!"
   ]
  }
 ],
 "metadata": {
  "kernelspec": {
   "display_name": "Python 3",
   "language": "python",
   "name": "python3"
  },
  "language_info": {
   "codemirror_mode": {
    "name": "ipython",
    "version": 3
   },
   "file_extension": ".py",
   "mimetype": "text/x-python",
   "name": "python",
   "nbconvert_exporter": "python",
   "pygments_lexer": "ipython3",
   "version": "3.9.8"
  },
  "orig_nbformat": 4,
  "vscode": {
   "interpreter": {
    "hash": "bb5871374aa815611ff090ac9fb6f4b5f2e2a999b21408b6453922aa9cb06e2a"
   }
  }
 },
 "nbformat": 4,
 "nbformat_minor": 2
}
