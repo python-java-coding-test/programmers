{
 "cells": [
  {
   "cell_type": "code",
   "execution_count": 1,
   "metadata": {},
   "outputs": [
    {
     "data": {
      "text/plain": [
       "3"
      ]
     },
     "execution_count": 1,
     "metadata": {},
     "output_type": "execute_result"
    }
   ],
   "source": [
    "from itertools import permutations\n",
    "\n",
    "def solution(k, dungeons):\n",
    "    dun_num = len(dungeons)\n",
    "    answer = 0\n",
    "    \n",
    "    for permut in permutations(dungeons, dun_num):\n",
    "        hp = k\n",
    "        count = 0\n",
    "        for pm in permut:\n",
    "            if hp >= pm[0]:\n",
    "                hp -= pm[1]\n",
    "                count += 1\n",
    "        if count > answer:\n",
    "            answer = count\n",
    "    \n",
    "    return answer\n",
    "\n",
    "solution(80,[[80,20],[50,40],[30,10]])"
   ]
  },
  {
   "attachments": {},
   "cell_type": "markdown",
   "metadata": {},
   "source": [
    "모르겠어서 구글링 결과 또 permutations\n",
    "이거 사용법 다시 정리해보기\n",
    "*permutations로 주어진 dungeons에서 가능한 순열을 모두 구하고, 구해진 순열을 순회하며 최대 몇 개의 던전을 방문할 수 있는지 확인하는 방법"
   ]
  }
 ],
 "metadata": {
  "kernelspec": {
   "display_name": "Python 3",
   "language": "python",
   "name": "python3"
  },
  "language_info": {
   "codemirror_mode": {
    "name": "ipython",
    "version": 3
   },
   "file_extension": ".py",
   "mimetype": "text/x-python",
   "name": "python",
   "nbconvert_exporter": "python",
   "pygments_lexer": "ipython3",
   "version": "3.9.8"
  },
  "orig_nbformat": 4,
  "vscode": {
   "interpreter": {
    "hash": "bb5871374aa815611ff090ac9fb6f4b5f2e2a999b21408b6453922aa9cb06e2a"
   }
  }
 },
 "nbformat": 4,
 "nbformat_minor": 2
}
